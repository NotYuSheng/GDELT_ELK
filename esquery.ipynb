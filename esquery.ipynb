{
 "cells": [
  {
   "cell_type": "markdown",
   "metadata": {},
   "source": [
    "# Extract ES cert from docker container\n",
    "docker cp gdelt_elk-es01-1:/usr/share/elasticsearch/config/certs/ca/ca.crt ./ca.crt"
   ]
  },
  {
   "cell_type": "code",
   "execution_count": null,
   "metadata": {},
   "outputs": [],
   "source": [
    "from elasticsearch import Elasticsearch\n",
    "from datetime import datetime\n",
    "import os\n",
    "CA_CERT_PATH = os.path.abspath(\"ca.crt\")  # Converts to full path\n",
    "\n",
    "# --- CONFIG ---\n",
    "ES_HOST = \"https://localhost:9200\"\n",
    "ES_USERNAME = \"elastic\"\n",
    "ES_PASSWORD = \"changeme\"\n",
    "ES_INDEX = \"gkg\"       \n",
    "\n",
    "# Create the client with authentication\n",
    "es = Elasticsearch(\n",
    "    ES_HOST,\n",
    "    basic_auth=(ES_USERNAME, ES_PASSWORD),\n",
    "    verify_certs=True, # Set to False if you're using self-signed certs (not recommended for prod)\n",
    "    ca_certs=CA_CERT_PATH\n",
    ")"
   ]
  },
  {
   "cell_type": "code",
   "execution_count": 12,
   "metadata": {},
   "outputs": [
    {
     "name": "stderr",
     "output_type": "stream",
     "text": [
      "/home/otb-02/anaconda3/lib/python3.12/site-packages/urllib3/connectionpool.py:1099: InsecureRequestWarning: Unverified HTTPS request is being made to host 'localhost'. Adding certificate verification is strongly advised. See: https://urllib3.readthedocs.io/en/latest/advanced-usage.html#tls-warnings\n",
      "  warnings.warn(\n"
     ]
    },
    {
     "name": "stdout",
     "output_type": "stream",
     "text": [
      "Entities found from 2025-03-25 06:30:00 to 2025-03-25 06:31:00:\n",
      "- Alexandra Heller-Nicholas\n",
      "- Arvind Kumar\n",
      "- Barry Jenkin\n",
      "- Basel Adra\n",
      "- Bob Dylan\n",
      "- Chris Lacivita\n",
      "- Conan Obrien\n",
      "- Donald Trump\n",
      "- Elon Musk\n",
      "- Gerard Depardieu\n",
      "- Gregory Maguire\n",
      "- Gurpreet Singh\n",
      "- Hamdan Ballal\n",
      "- Holden Sheppard\n",
      "- Jack Mccollough\n",
      "- John Howard\n",
      "- Jonathan Anderson\n",
      "- Josh Kimelman\n",
      "- Julia Gillard\n",
      "- Jupally Krishna Rao\n",
      "- Kevin Rudd\n",
      "- Lazaro Hernandez\n",
      "- Lea Tsemel\n",
      "- Los Angeles\n",
      "- Maggie Haberman\n",
      "- Malcolm Turnbull\n",
      "- Mark Zuckerberg\n",
      "- Masafar Yatta\n",
      "- Masafer Yatta\n",
      "- Parikshit Mehra\n",
      "- Peter Baker\n",
      "- Ponguleti Srinivas Reddy\n",
      "- Pres Fernanda Figueroa\n",
      "- Proenza Schouler\n",
      "- Rachel Szor\n",
      "- Revanth Reddy\n",
      "- Santhi Kumari\n",
      "- Sarah Silverman\n",
      "- Seth Rogen\n",
      "- Shankar Loteti\n",
      "- Sophie Cunningham\n",
      "- Surendra Singh\n",
      "- Telangana Revanth Reddy\n",
      "- Tracey Spicer\n",
      "- Yuval Abraham\n"
     ]
    }
   ],
   "source": [
    "# --- INPUT ---\n",
    "start_time = \"2025-03-25 06:30:00\"\n",
    "end_time = \"2025-03-25 06:31:00\"\n",
    "\n",
    "# --- Convert to RecordId format ---\n",
    "def to_record_id_format(dt_str):\n",
    "    return datetime.strptime(dt_str, \"%Y-%m-%d %H:%M:%S\").strftime(\"%Y%m%d%H%M%S\")\n",
    "\n",
    "record_id_start = to_record_id_format(start_time)\n",
    "record_id_end = to_record_id_format(end_time)\n",
    "\n",
    "# --- Query ---\n",
    "query = {\n",
    "    \"_source\": [\"V2Persons.V1Person\"],\n",
    "    \"query\": {\n",
    "        \"range\": {\n",
    "            \"RecordId\": {\n",
    "                \"gte\": record_id_start,\n",
    "                \"lte\": record_id_end\n",
    "            }\n",
    "        }\n",
    "    }\n",
    "}\n",
    "\n",
    "# --- Execute ---\n",
    "response = es.search(index=ES_INDEX, body=query)  # Increase size if needed\n",
    "\n",
    "# --- Extract and Deduplicate Persons ---\n",
    "entities = []\n",
    "for hit in response[\"hits\"][\"hits\"]:\n",
    "    persons = hit[\"_source\"].get(\"V2Persons\", {}).get(\"V1Person\", [])\n",
    "    entities.extend(persons)\n",
    "\n",
    "unique_entities = sorted(set(entities))\n",
    "\n",
    "# --- Output ---\n",
    "print(f\"Entities found from {start_time} to {end_time}:\")\n",
    "for name in unique_entities:\n",
    "    print(\"-\", name)\n"
   ]
  },
  {
   "cell_type": "code",
   "execution_count": null,
   "metadata": {},
   "outputs": [],
   "source": []
  }
 ],
 "metadata": {
  "kernelspec": {
   "display_name": "base",
   "language": "python",
   "name": "python3"
  },
  "language_info": {
   "codemirror_mode": {
    "name": "ipython",
    "version": 3
   },
   "file_extension": ".py",
   "mimetype": "text/x-python",
   "name": "python",
   "nbconvert_exporter": "python",
   "pygments_lexer": "ipython3",
   "version": "3.12.7"
  }
 },
 "nbformat": 4,
 "nbformat_minor": 2
}
