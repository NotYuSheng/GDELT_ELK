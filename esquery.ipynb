{
 "cells": [
  {
   "cell_type": "markdown",
   "metadata": {},
   "source": [
    "# Extract ES cert from docker container\n",
    "docker cp gdelt_elk-es01-1:/usr/share/elasticsearch/config/certs/ca/ca.crt ./ca.crt"
   ]
  },
  {
   "cell_type": "code",
   "execution_count": 1,
   "metadata": {},
   "outputs": [
    {
     "name": "stderr",
     "output_type": "stream",
     "text": [
      "c:\\Users\\ngyee\\AppData\\Local\\Programs\\Python\\Python312\\Lib\\site-packages\\elasticsearch\\_sync\\client\\__init__.py:403: SecurityWarning: Connecting to 'https://localhost:9200' using TLS with verify_certs=False is insecure\n",
      "  _transport = transport_class(\n"
     ]
    }
   ],
   "source": [
    "from elasticsearch import Elasticsearch\n",
    "from datetime import datetime\n",
    "import os\n",
    "CA_CERT_PATH = os.path.abspath(\"ca.crt\")  # Converts to full path\n",
    "\n",
    "# --- CONFIG ---\n",
    "ES_HOST = \"https://localhost:9200\"\n",
    "ES_USERNAME = \"elastic\"\n",
    "ES_PASSWORD = \"changeme\"\n",
    "ES_INDEX = \"gkg\"       \n",
    "\n",
    "# Create the client with authentication\n",
    "es = Elasticsearch(\n",
    "    ES_HOST,\n",
    "    basic_auth=(ES_USERNAME, ES_PASSWORD),\n",
    "    verify_certs=False, # Set to False if you're using self-signed certs (not recommended for prod)\n",
    "    ca_certs=CA_CERT_PATH\n",
    ")"
   ]
  },
  {
   "cell_type": "code",
   "execution_count": 2,
   "metadata": {},
   "outputs": [
    {
     "name": "stdout",
     "output_type": "stream",
     "text": [
      "c:\\Users\\ngyee\\Projects\\OTB stuff\\GDELT_ELK\\ca.crt\n"
     ]
    }
   ],
   "source": [
    "print(CA_CERT_PATH)"
   ]
  },
  {
   "cell_type": "code",
   "execution_count": 3,
   "metadata": {},
   "outputs": [
    {
     "name": "stdout",
     "output_type": "stream",
     "text": [
      "{'took': 29, 'timed_out': False, '_shards': {'total': 1, 'successful': 1, 'skipped': 0, 'failed': 0}, 'hits': {'total': {'value': 10000, 'relation': 'gte'}, 'max_score': 1.0, 'hits': [{'_index': 'gkg', '_id': 'vTnB9ZUBL8Nog7K__d2v', '_score': 1.0, '_ignored': ['event.original.keyword', 'V2ExtrasXML.Links.keyword'], '_source': {'V2Persons': {'V1Person': ['Villa Rockstar', 'Spencer Matthews', 'Jamie Laing', 'Wendy Golledge', 'Sophie Habboo', 'Alison Perry']}}}, {'_index': 'gkg', '_id': 'vjnB9ZUBL8Nog7K__d2v', '_score': 1.0, '_ignored': ['event.original.keyword'], '_source': {'V2Persons': {'V1Person': ['Nicole Zhang', 'Wang Xiao Nan', 'Zeng Hao', 'Zixin Li']}}}, {'_index': 'gkg', '_id': 'vznB9ZUBL8Nog7K__d2v', '_score': 1.0, '_ignored': ['event.original.keyword', 'V2ExtrasXML.Links.keyword'], '_source': {}}, {'_index': 'gkg', '_id': 'wDnB9ZUBL8Nog7K__d2v', '_score': 1.0, '_ignored': ['event.original.keyword'], '_source': {'V2Persons': {'V1Person': ['Le Pew', 'Looney Tunescollector Vaultvol', 'Gonzales Warner', 'George Feltenstein']}}}, {'_index': 'gkg', '_id': 'GDnB9ZUBL8Nog7K__uIQ', '_score': 1.0, '_ignored': ['event.original.keyword'], '_source': {'V2Persons': {'V1Person': ['Pankaj Kapoor']}}}, {'_index': 'gkg', '_id': 'kDnB9ZUBL8Nog7K__uIT', '_score': 1.0, '_ignored': ['event.original.keyword', 'V2ExtrasXML.Links.keyword'], '_source': {'V2Persons': {'V1Person': ['Doncaster Sheffield Robin Hood', 'Ros Jones']}}}, {'_index': 'gkg', '_id': 'GjnB9ZUBL8Nog7K__uIQ', '_score': 1.0, '_ignored': ['event.original.keyword'], '_source': {'V2Persons': {'V1Person': ['Amir Anwary']}}}, {'_index': 'gkg', '_id': 'yDnB9ZUBL8Nog7K__d2v', '_score': 1.0, '_ignored': ['event.original.keyword'], '_source': {'V2Persons': {'V1Person': ['Donald Trump', 'Shawn Fain', 'Vladimir Putin']}}}, {'_index': 'gkg', '_id': 'oTnB9ZUBL8Nog7K__uEQ', '_score': 1.0, '_ignored': ['event.original.keyword'], '_source': {'V2Persons': {'V1Person': ['Amit Sheth']}}}, {'_index': 'gkg', '_id': 'ojnB9ZUBL8Nog7K__uEQ', '_score': 1.0, '_ignored': ['event.original.keyword'], '_source': {'V2Persons': {'V1Person': ['Donald Trump', 'Craig Jarchow']}}}]}}\n",
      "Entities found from 2025-04-01 00:00:00 to 2025-04-02 23:59:00:\n",
      "- Alison Perry\n",
      "- Amir Anwary\n",
      "- Amit Sheth\n",
      "- Craig Jarchow\n",
      "- Donald Trump\n",
      "- Doncaster Sheffield Robin Hood\n",
      "- George Feltenstein\n",
      "- Gonzales Warner\n",
      "- Jamie Laing\n",
      "- Le Pew\n",
      "- Looney Tunescollector Vaultvol\n",
      "- Nicole Zhang\n",
      "- Pankaj Kapoor\n",
      "- Ros Jones\n",
      "- Shawn Fain\n",
      "- Sophie Habboo\n",
      "- Spencer Matthews\n",
      "- Villa Rockstar\n",
      "- Vladimir Putin\n",
      "- Wang Xiao Nan\n",
      "- Wendy Golledge\n",
      "- Zeng Hao\n",
      "- Zixin Li\n"
     ]
    },
    {
     "name": "stderr",
     "output_type": "stream",
     "text": [
      "c:\\Users\\ngyee\\AppData\\Local\\Programs\\Python\\Python312\\Lib\\site-packages\\urllib3\\connectionpool.py:1097: InsecureRequestWarning: Unverified HTTPS request is being made to host 'localhost'. Adding certificate verification is strongly advised. See: https://urllib3.readthedocs.io/en/latest/advanced-usage.html#tls-warnings\n",
      "  warnings.warn(\n"
     ]
    }
   ],
   "source": [
    "# --- INPUT ---\n",
    "start_time = \"2025-04-01 00:00:00\"\n",
    "end_time = \"2025-04-02 23:59:00\"\n",
    "\n",
    "# --- Convert to RecordId format ---\n",
    "def to_record_id_format(dt_str):\n",
    "    return datetime.strptime(dt_str, \"%Y-%m-%d %H:%M:%S\").strftime(\"%Y%m%d%H%M%S\")\n",
    "\n",
    "record_id_start = to_record_id_format(start_time)\n",
    "record_id_end = to_record_id_format(end_time)\n",
    "\n",
    "# --- Query ---\n",
    "query = {\n",
    "    \"_source\": [\"V2Persons.V1Person\"],\n",
    "    \"query\": {\n",
    "        \"range\": {\n",
    "            \"RecordId\": {\n",
    "                \"gte\": record_id_start,\n",
    "                \"lte\": record_id_end\n",
    "            }\n",
    "        }\n",
    "    }\n",
    "}\n",
    "\n",
    "# --- Execute ---\n",
    "response = es.search(index=ES_INDEX, body=query)  # Increase size if needed\n",
    "\n",
    "print(response)\n",
    "\n",
    "# --- Extract and Deduplicate Persons ---\n",
    "entities = []\n",
    "for hit in response[\"hits\"][\"hits\"]:\n",
    "    persons = hit[\"_source\"].get(\"V2Persons\", {}).get(\"V1Person\", [])\n",
    "    entities.extend(persons)\n",
    "\n",
    "unique_entities = sorted(set(entities))\n",
    "\n",
    "# --- Output ---\n",
    "print(f\"Entities found from {start_time} to {end_time}:\")\n",
    "for name in unique_entities:\n",
    "    print(\"-\", name)\n"
   ]
  },
  {
   "cell_type": "code",
   "execution_count": null,
   "metadata": {},
   "outputs": [],
   "source": []
  }
 ],
 "metadata": {
  "kernelspec": {
   "display_name": "Python 3",
   "language": "python",
   "name": "python3"
  },
  "language_info": {
   "codemirror_mode": {
    "name": "ipython",
    "version": 3
   },
   "file_extension": ".py",
   "mimetype": "text/x-python",
   "name": "python",
   "nbconvert_exporter": "python",
   "pygments_lexer": "ipython3",
   "version": "3.12.5"
  }
 },
 "nbformat": 4,
 "nbformat_minor": 2
}
