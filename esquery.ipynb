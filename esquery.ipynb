{
 "cells": [
  {
   "cell_type": "markdown",
   "metadata": {},
   "source": [
    "# Extract ES cert from docker container\n",
    "docker cp gdelt_elk-es01-1:/usr/share/elasticsearch/config/certs/ca/ca.crt ./ca.crt"
   ]
  },
  {
   "cell_type": "code",
   "execution_count": 3,
   "metadata": {},
   "outputs": [
    {
     "name": "stderr",
     "output_type": "stream",
     "text": [
      "/home/otb-02/anaconda3/lib/python3.12/site-packages/elasticsearch/_sync/client/__init__.py:403: SecurityWarning: Connecting to 'https://localhost:9200' using TLS with verify_certs=False is insecure\n",
      "  _transport = transport_class(\n"
     ]
    }
   ],
   "source": [
    "from elasticsearch import Elasticsearch\n",
    "from datetime import datetime\n",
    "import os\n",
    "CA_CERT_PATH = os.path.abspath(\"ca.crt\")  # Converts to full path\n",
    "\n",
    "# --- CONFIG ---\n",
    "ES_HOST = \"https://localhost:9200\"\n",
    "ES_USERNAME = \"elastic\"\n",
    "ES_PASSWORD = \"changeme\"\n",
    "ES_INDEX = \"gkg\"       \n",
    "\n",
    "# Create the client with authentication\n",
    "es = Elasticsearch(\n",
    "    ES_HOST,\n",
    "    basic_auth=(ES_USERNAME, ES_PASSWORD),\n",
    "    verify_certs=False, # Set to False if you're using self-signed certs (not recommended for prod)\n",
    "    ca_certs=CA_CERT_PATH\n",
    ")"
   ]
  },
  {
   "cell_type": "code",
   "execution_count": 6,
   "metadata": {},
   "outputs": [
    {
     "name": "stdout",
     "output_type": "stream",
     "text": [
      "{'took': 13, 'timed_out': False, '_shards': {'total': 1, 'successful': 1, 'skipped': 0, 'failed': 0}, 'hits': {'total': {'value': 2773, 'relation': 'eq'}, 'max_score': 1.0, 'hits': [{'_index': 'gkg', '_id': 'n-0t9JUBI7rUMaveg2go', '_score': 1.0, '_ignored': ['event.original.keyword'], '_source': {'V2Persons': {'V1Person': ['Jovanim Martinez', 'Cesar Fernandez', 'Jason Romero', 'Lucy Ugarte', 'Stephen Johnson', 'Francisco Tamayo', 'Scott Bohrer', 'Giovanna Castro', 'Kate Bishop', 'Eduardo Reyes', 'Al Renteria']}}}, {'_index': 'gkg', '_id': 'qe0t9JUBI7rUMaveg2go', '_score': 1.0, '_ignored': ['event.original.keyword'], '_source': {'V2Persons': {'V1Person': ['Devin Williams', 'Adam Ottavino']}}}, {'_index': 'gkg', '_id': '9-0t9JUBI7rUMaveg2Yo', '_score': 1.0, '_ignored': ['event.original.keyword'], '_source': {'V2Persons': {'V1Person': ['Kimberly Gardner', 'Joey Palmer', 'Dave Murray', 'Mike Dittenber', 'Brad Little', 'Robin Collins', 'Intelligencefor Melyssa Ferro', 'Sabrina Durtschi']}}}, {'_index': 'gkg', '_id': '_e0t9JUBI7rUMaveg2Yo', '_score': 1.0, '_ignored': ['event.original.keyword', 'V2ExtrasXML.Links.keyword'], '_source': {}}, {'_index': 'gkg', '_id': '7u0t9JUBI7rUMaveg2co', '_score': 1.0, '_ignored': ['event.original.keyword'], '_source': {}}, {'_index': 'gkg', '_id': '-e0t9JUBI7rUMaveg2co', '_score': 1.0, '_ignored': ['event.original.keyword', 'V2ExtrasXML.Links.keyword'], '_source': {'V2Persons': {'V1Person': ['Kelly Hansen', 'Lou Gramm']}}}, {'_index': 'gkg', '_id': '6u0t9JUBI7rUMaveg2go', '_score': 1.0, '_ignored': ['event.original.keyword'], '_source': {'V2Persons': {'V1Person': ['Peter Dutton', 'Jason Clare', 'Jessica Holloway']}}}, {'_index': 'gkg', '_id': '8-0t9JUBI7rUMaveg2go', '_score': 1.0, '_ignored': ['event.original.keyword'], '_source': {}}, {'_index': 'gkg', '_id': 'Gu0t9JUBI7rUMaveg2co', '_score': 1.0, '_ignored': ['event.original.keyword'], '_source': {'V2Persons': {'V1Person': ['Karl Muller', 'Anthony Blunt', 'Guy Burgess', 'Jonathan Brady', 'Ken Mccallum', 'Donald Maclean', 'Mark Dunton']}}}, {'_index': 'gkg', '_id': 'Hu0t9JUBI7rUMaveg2co', '_score': 1.0, '_ignored': ['event.original.keyword'], '_source': {'V2Persons': {'V1Person': ['Erik Haas', 'Andy Birchfield']}}}]}}\n",
      "Entities found from 2025-04-01 00:00:00 to 2025-04-02 23:59:00:\n",
      "- Adam Ottavino\n",
      "- Al Renteria\n",
      "- Andy Birchfield\n",
      "- Anthony Blunt\n",
      "- Brad Little\n",
      "- Cesar Fernandez\n",
      "- Dave Murray\n",
      "- Devin Williams\n",
      "- Donald Maclean\n",
      "- Eduardo Reyes\n",
      "- Erik Haas\n",
      "- Francisco Tamayo\n",
      "- Giovanna Castro\n",
      "- Guy Burgess\n",
      "- Intelligencefor Melyssa Ferro\n",
      "- Jason Clare\n",
      "- Jason Romero\n",
      "- Jessica Holloway\n",
      "- Joey Palmer\n",
      "- Jonathan Brady\n",
      "- Jovanim Martinez\n",
      "- Karl Muller\n",
      "- Kate Bishop\n",
      "- Kelly Hansen\n",
      "- Ken Mccallum\n",
      "- Kimberly Gardner\n",
      "- Lou Gramm\n",
      "- Lucy Ugarte\n",
      "- Mark Dunton\n",
      "- Mike Dittenber\n",
      "- Peter Dutton\n",
      "- Robin Collins\n",
      "- Sabrina Durtschi\n",
      "- Scott Bohrer\n",
      "- Stephen Johnson\n"
     ]
    },
    {
     "name": "stderr",
     "output_type": "stream",
     "text": [
      "/home/otb-02/anaconda3/lib/python3.12/site-packages/urllib3/connectionpool.py:1099: InsecureRequestWarning: Unverified HTTPS request is being made to host 'localhost'. Adding certificate verification is strongly advised. See: https://urllib3.readthedocs.io/en/latest/advanced-usage.html#tls-warnings\n",
      "  warnings.warn(\n"
     ]
    }
   ],
   "source": [
    "# --- INPUT ---\n",
    "start_time = \"2025-04-01 00:00:00\"\n",
    "end_time = \"2025-04-02 23:59:00\"\n",
    "\n",
    "# --- Convert to RecordId format ---\n",
    "def to_record_id_format(dt_str):\n",
    "    return datetime.strptime(dt_str, \"%Y-%m-%d %H:%M:%S\").strftime(\"%Y%m%d%H%M%S\")\n",
    "\n",
    "record_id_start = to_record_id_format(start_time)\n",
    "record_id_end = to_record_id_format(end_time)\n",
    "\n",
    "# --- Query ---\n",
    "query = {\n",
    "    \"_source\": [\"V2Persons.V1Person\"],\n",
    "    \"query\": {\n",
    "        \"range\": {\n",
    "            \"RecordId\": {\n",
    "                \"gte\": record_id_start,\n",
    "                \"lte\": record_id_end\n",
    "            }\n",
    "        }\n",
    "    }\n",
    "}\n",
    "\n",
    "# --- Execute ---\n",
    "response = es.search(index=ES_INDEX, body=query)  # Increase size if needed\n",
    "\n",
    "print(response)\n",
    "\n",
    "# --- Extract and Deduplicate Persons ---\n",
    "entities = []\n",
    "for hit in response[\"hits\"][\"hits\"]:\n",
    "    persons = hit[\"_source\"].get(\"V2Persons\", {}).get(\"V1Person\", [])\n",
    "    entities.extend(persons)\n",
    "\n",
    "unique_entities = sorted(set(entities))\n",
    "\n",
    "# --- Output ---\n",
    "print(f\"Entities found from {start_time} to {end_time}:\")\n",
    "for name in unique_entities:\n",
    "    print(\"-\", name)\n"
   ]
  },
  {
   "cell_type": "code",
   "execution_count": null,
   "metadata": {},
   "outputs": [],
   "source": []
  }
 ],
 "metadata": {
  "kernelspec": {
   "display_name": "base",
   "language": "python",
   "name": "python3"
  },
  "language_info": {
   "codemirror_mode": {
    "name": "ipython",
    "version": 3
   },
   "file_extension": ".py",
   "mimetype": "text/x-python",
   "name": "python",
   "nbconvert_exporter": "python",
   "pygments_lexer": "ipython3",
   "version": "3.12.7"
  }
 },
 "nbformat": 4,
 "nbformat_minor": 2
}
